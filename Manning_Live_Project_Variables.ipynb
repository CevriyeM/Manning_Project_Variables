{
 "cells": [
  {
   "cell_type": "code",
   "execution_count": 1,
   "id": "a90aba1b",
   "metadata": {},
   "outputs": [
    {
     "name": "stdout",
     "output_type": "stream",
     "text": [
      "3 5\n"
     ]
    }
   ],
   "source": [
    "# Integer\n",
    "a = 3\n",
    "b = a\n",
    "b = 5\n",
    "print(a, b)"
   ]
  },
  {
   "cell_type": "code",
   "execution_count": 2,
   "id": "bb8245c6",
   "metadata": {},
   "outputs": [
    {
     "name": "stdout",
     "output_type": "stream",
     "text": [
      "3.14 5.25\n"
     ]
    }
   ],
   "source": [
    "# Float\n",
    "float_a = 3.14\n",
    "float_b = float_a\n",
    "float_b = 5.25\n",
    "print(float_a, float_b)"
   ]
  },
  {
   "cell_type": "code",
   "execution_count": 4,
   "id": "ed20e6f0",
   "metadata": {},
   "outputs": [
    {
     "name": "stdout",
     "output_type": "stream",
     "text": [
      "Nothing Something\n"
     ]
    }
   ],
   "source": [
    "# String\n",
    "mystring_a = 'Nothing'\n",
    "mystring_b = mystring_a\n",
    "mystring_b = 'Something'\n",
    "print(mystring_a, mystring_b)"
   ]
  },
  {
   "cell_type": "code",
   "execution_count": 5,
   "id": "9acb0317",
   "metadata": {},
   "outputs": [
    {
     "ename": "TypeError",
     "evalue": "'tuple' object does not support item assignment",
     "output_type": "error",
     "traceback": [
      "\u001b[1;31m---------------------------------------------------------------------------\u001b[0m",
      "\u001b[1;31mTypeError\u001b[0m                                 Traceback (most recent call last)",
      "\u001b[1;32m~\\AppData\\Local\\Temp/ipykernel_2452/2734095229.py\u001b[0m in \u001b[0;36m<module>\u001b[1;34m\u001b[0m\n\u001b[0;32m      2\u001b[0m \u001b[0mmytuple_a\u001b[0m \u001b[1;33m=\u001b[0m \u001b[1;33m(\u001b[0m\u001b[1;36m0\u001b[0m\u001b[1;33m,\u001b[0m \u001b[1;36m1\u001b[0m\u001b[1;33m,\u001b[0m \u001b[1;36m2\u001b[0m\u001b[1;33m,\u001b[0m \u001b[1;36m3\u001b[0m\u001b[1;33m)\u001b[0m\u001b[1;33m\u001b[0m\u001b[1;33m\u001b[0m\u001b[0m\n\u001b[0;32m      3\u001b[0m \u001b[0mmytuple_b\u001b[0m \u001b[1;33m=\u001b[0m \u001b[0mmytuple_a\u001b[0m\u001b[1;33m\u001b[0m\u001b[1;33m\u001b[0m\u001b[0m\n\u001b[1;32m----> 4\u001b[1;33m \u001b[0mmytuple_b\u001b[0m\u001b[1;33m[\u001b[0m\u001b[1;36m5\u001b[0m\u001b[1;33m]\u001b[0m \u001b[1;33m=\u001b[0m \u001b[1;36m400\u001b[0m\u001b[1;33m\u001b[0m\u001b[1;33m\u001b[0m\u001b[0m\n\u001b[0m\u001b[0;32m      5\u001b[0m \u001b[0mprint\u001b[0m\u001b[1;33m(\u001b[0m\u001b[0mmytuple_a\u001b[0m\u001b[1;33m,\u001b[0m \u001b[0mmytuple_b\u001b[0m\u001b[1;33m)\u001b[0m\u001b[1;33m\u001b[0m\u001b[1;33m\u001b[0m\u001b[0m\n",
      "\u001b[1;31mTypeError\u001b[0m: 'tuple' object does not support item assignment"
     ]
    }
   ],
   "source": [
    "# Tuple\n",
    "mytuple_a = (0, 1, 2, 3)\n",
    "mytuple_b = mytuple_a\n",
    "mytuple_b[5] = 400\n",
    "print(mytuple_a, mytuple_b)"
   ]
  },
  {
   "cell_type": "code",
   "execution_count": 6,
   "id": "123e034d",
   "metadata": {},
   "outputs": [
    {
     "name": "stdout",
     "output_type": "stream",
     "text": [
      "{'apple': 1, 'banana': 5, 'cherry': 3} {'apple': 1, 'banana': 5, 'cherry': 3}\n"
     ]
    }
   ],
   "source": [
    "#Dictionary\n",
    "mydict_a = {'apple': 1, 'banana': 2, 'cherry': 3}\n",
    "mydict_b = mydict_a\n",
    "mydict_b['banana'] = 5\n",
    "print(mydict_a, mydict_b)"
   ]
  },
  {
   "cell_type": "code",
   "execution_count": null,
   "id": "9c76e31e",
   "metadata": {},
   "outputs": [],
   "source": []
  }
 ],
 "metadata": {
  "kernelspec": {
   "display_name": "Python 3 (ipykernel)",
   "language": "python",
   "name": "python3"
  },
  "language_info": {
   "codemirror_mode": {
    "name": "ipython",
    "version": 3
   },
   "file_extension": ".py",
   "mimetype": "text/x-python",
   "name": "python",
   "nbconvert_exporter": "python",
   "pygments_lexer": "ipython3",
   "version": "3.9.7"
  }
 },
 "nbformat": 4,
 "nbformat_minor": 5
}

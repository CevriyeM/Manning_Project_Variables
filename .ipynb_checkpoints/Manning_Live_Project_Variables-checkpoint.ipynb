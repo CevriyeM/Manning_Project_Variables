{
 "cells": [
  {
   "cell_type": "code",
   "execution_count": 13,
   "id": "a90aba1b",
   "metadata": {},
   "outputs": [
    {
     "name": "stdout",
     "output_type": "stream",
     "text": [
      "Value of a: 3, ID of a: 2043120871792\n",
      "Value of b: 3, ID of b: 2043120871792\n",
      "\n",
      "After that the value of b is changed:\n",
      "Value of a: 3, ID of a: 2043120871792\n",
      "Value of b: 5, ID of b: 2043120871856\n"
     ]
    }
   ],
   "source": [
    "# Integer\n",
    "a = 3\n",
    "b = a\n",
    "print(f\"Value of a: {a}, ID of a: {id(a)}\\nValue of b: {b}, ID of b: {id(b)}\")\n",
    "b = 5\n",
    "print(f\"\\nAfter that the value of b is changed:\\nValue of a: {a}, ID of a: {id(a)}\\nValue of b: {b}, ID of b: {id(b)}\")"
   ]
  },
  {
   "cell_type": "code",
   "execution_count": 12,
   "id": "bb8245c6",
   "metadata": {},
   "outputs": [
    {
     "name": "stdout",
     "output_type": "stream",
     "text": [
      "Value of a: 3.14, ID of a: 2043202407600\n",
      "Value of b: 3.14, ID of b: 2043202407600\n",
      "\n",
      "After that the value of b is changed:\n",
      "Value of a: 3.14, ID of a: 2043202407600\n",
      "Value of b: 5.25, ID of b: 2043202408304\n"
     ]
    }
   ],
   "source": [
    "# Float\n",
    "a = 3.14\n",
    "b = a\n",
    "print(f\"Value of a: {a}, ID of a: {id(a)}\\nValue of b: {b}, ID of b: {id(b)}\")\n",
    "b = 5.25\n",
    "print(f\"\\nAfter that the value of b is changed:\\nValue of a: {a}, ID of a: {id(a)}\\nValue of b: {b}, ID of b: {id(b)}\")"
   ]
  },
  {
   "cell_type": "code",
   "execution_count": 11,
   "id": "ed20e6f0",
   "metadata": {},
   "outputs": [
    {
     "name": "stdout",
     "output_type": "stream",
     "text": [
      "Value of a: Nothing, ID of a: 2043196054960\n",
      "Value of b: Nothing, ID of b: 2043196054960\n",
      "\n",
      "After that the value of b is changed:\n",
      "Value of a: Nothing, ID of a: 2043196054960\n",
      "Value of b: Something, ID of b: 2043202557296\n"
     ]
    }
   ],
   "source": [
    "# String\n",
    "a = 'Nothing'\n",
    "b = a\n",
    "print(f\"Value of a: {a}, ID of a: {id(a)}\\nValue of b: {b}, ID of b: {id(b)}\")\n",
    "b = 'Something'\n",
    "print(f\"\\nAfter that the value of b is changed:\\nValue of a: {a}, ID of a: {id(a)}\\nValue of b: {b}, ID of b: {id(b)}\")"
   ]
  },
  {
   "cell_type": "code",
   "execution_count": 10,
   "id": "9acb0317",
   "metadata": {},
   "outputs": [
    {
     "name": "stdout",
     "output_type": "stream",
     "text": [
      "Value of a: (0, 1, 2, 3), ID of a: 2043174396208\n",
      "Value of b: (0, 1, 2, 3), ID of b: 2043174396208\n",
      "\n",
      "After that the value of b is changed:\n",
      "Value of a: (0, 1, 2, 3), ID of a: 2043174396208\n",
      "Value of b: (4, 5, 6), ID of b: 2043198122112\n"
     ]
    }
   ],
   "source": [
    "# Tuple\n",
    "a = (0, 1, 2, 3)\n",
    "b = a\n",
    "print(f\"Value of a: {a}, ID of a: {id(a)}\\nValue of b: {b}, ID of b: {id(b)}\")\n",
    "b = (4, 5, 6)\n",
    "print(f\"\\nAfter that the value of b is changed:\\nValue of a: {a}, ID of a: {id(a)}\\nValue of b: {b}, ID of b: {id(b)}\")"
   ]
  },
  {
   "cell_type": "code",
   "execution_count": 18,
   "id": "123e034d",
   "metadata": {},
   "outputs": [
    {
     "name": "stdout",
     "output_type": "stream",
     "text": [
      "mydict_a = {'apple': 1, 'banana': 2, 'cherry': 3} ID of mydict_a: 2043201882240 \n",
      "mydict_b = {'apple': 1, 'banana': 2, 'cherry': 3} ID of mydict_b: 2043201882240\n",
      "\n",
      "After that the value of b is changed:\n",
      "mydict_a = {'apple': 1, 'banana': 5, 'cherry': 3} ID of mydict_a: 2043201882240 \n",
      "mydict_b = {'apple': 1, 'banana': 5, 'cherry': 3} ID of mydict_b: 2043201882240\n"
     ]
    }
   ],
   "source": [
    "#Dictionary\n",
    "mydict_a = {'apple': 1, 'banana': 2, 'cherry': 3}\n",
    "mydict_b = mydict_a\n",
    "print(f\"mydict_a = {mydict_a} ID of mydict_a: {id(mydict_a)} \\nmydict_b = {mydict_b} ID of mydict_b: {id(mydict_b)}\")\n",
    "mydict_b['banana'] = 5\n",
    "print(f\"\\nAfter that the value of b is changed:\\nmydict_a = {mydict_a} ID of mydict_a: {id(mydict_a)} \\nmydict_b = {mydict_b} ID of mydict_b: {id(mydict_b)}\")"
   ]
  },
  {
   "cell_type": "code",
   "execution_count": 25,
   "id": "9c76e31e",
   "metadata": {},
   "outputs": [
    {
     "name": "stdout",
     "output_type": "stream",
     "text": [
      "mylist_a = ['apple', 'banana', 'cherry'] ID of mylist_a: 2043202821184 \n",
      "mylist_b = ['apple', 'banana', 'cherry'] ID of mylist_b: 2043202821184\n",
      "\n",
      "After that the value of mylist_b is changed:\n",
      "mylist_a = ['apple', 'kiwi', 'cherry'] ID of mylist_a: 2043202821184 \n",
      "mylist_b = ['apple', 'kiwi', 'cherry'] ID of mylist_b: 2043202821184\n"
     ]
    }
   ],
   "source": [
    "#List\n",
    "mylist_a = ['apple', 'banana', 'cherry']\n",
    "mylist_b = mylist_a\n",
    "print(f\"mylist_a = {mylist_a} ID of mylist_a: {id(mylist_a)} \\nmylist_b = {mylist_b} ID of mylist_b: {id(mylist_b)}\")\n",
    "mylist_b[1] = 'kiwi'\n",
    "print(f\"\\nAfter that the value of mylist_b is changed:\\nmylist_a = {mylist_a} ID of mylist_a: {id(mylist_a)} \\nmylist_b = {mylist_b} ID of mylist_b: {id(mylist_b)}\")"
   ]
  },
  {
   "cell_type": "code",
   "execution_count": null,
   "id": "ded63cd3",
   "metadata": {},
   "outputs": [],
   "source": [
    "# When two variables are set to the same value, \n",
    "\n",
    "# for immutable objects(integer, float, string, tuple data types) \n",
    "# if the value of a variable changes, it does not effect the value of the other variable.\n",
    "\n",
    "# for mutable objects (lists and dictionaries),\n",
    "# if the value of a variable changes, the value of the other variable also changes.  "
   ]
  },
  {
   "cell_type": "code",
   "execution_count": null,
   "id": "d578cb00",
   "metadata": {},
   "outputs": [],
   "source": [
    "# For immutable objects when the value of a variable changes, the ID of that variable also changes.\n",
    "\n",
    "# For mutable objects (lists and dictionaries), even if the value changes the ID does not change.\n",
    "# So when two mutable objects are set to the same value, they share the same ID. \n",
    "# When a change is made to one of the variables, since the variables share the same ID, the other variable also changes. "
   ]
  }
 ],
 "metadata": {
  "kernelspec": {
   "display_name": "Python 3 (ipykernel)",
   "language": "python",
   "name": "python3"
  },
  "language_info": {
   "codemirror_mode": {
    "name": "ipython",
    "version": 3
   },
   "file_extension": ".py",
   "mimetype": "text/x-python",
   "name": "python",
   "nbconvert_exporter": "python",
   "pygments_lexer": "ipython3",
   "version": "3.9.7"
  }
 },
 "nbformat": 4,
 "nbformat_minor": 5
}

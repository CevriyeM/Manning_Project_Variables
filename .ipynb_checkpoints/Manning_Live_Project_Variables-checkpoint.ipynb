{
 "cells": [
  {
   "cell_type": "code",
   "execution_count": 6,
   "id": "a90aba1b",
   "metadata": {},
   "outputs": [
    {
     "name": "stdout",
     "output_type": "stream",
     "text": [
      "Value of a is 3\n",
      "Value of b is 5\n"
     ]
    }
   ],
   "source": [
    "# Integer\n",
    "a = 3\n",
    "b = a\n",
    "b = 5\n",
    "print(f\"Value of a is {a}\\nValue of b is {b}\")"
   ]
  },
  {
   "cell_type": "code",
   "execution_count": 9,
   "id": "bb8245c6",
   "metadata": {},
   "outputs": [
    {
     "name": "stdout",
     "output_type": "stream",
     "text": [
      "Value of a is 3.14\n",
      "Value of b is 5.25\n"
     ]
    }
   ],
   "source": [
    "# Float\n",
    "a = 3.14\n",
    "b = a\n",
    "b = 5.25\n",
    "print(f\"Value of a is {a}\\nValue of b is {b}\")"
   ]
  },
  {
   "cell_type": "code",
   "execution_count": 10,
   "id": "ed20e6f0",
   "metadata": {},
   "outputs": [
    {
     "name": "stdout",
     "output_type": "stream",
     "text": [
      "Value of a is Nothing\n",
      "Value of b is Something\n"
     ]
    }
   ],
   "source": [
    "# String\n",
    "a = 'Nothing'\n",
    "b = a\n",
    "b = 'Something'\n",
    "print(f\"Value of a is {a}\\nValue of b is {b}\")"
   ]
  },
  {
   "cell_type": "code",
   "execution_count": 14,
   "id": "9acb0317",
   "metadata": {},
   "outputs": [
    {
     "name": "stdout",
     "output_type": "stream",
     "text": [
      "Value of a is (0, 1, 2, 3)\n",
      "Value of b is (4, 5, 6)\n"
     ]
    }
   ],
   "source": [
    "# Tuple\n",
    "a = (0, 1, 2, 3)\n",
    "b = a\n",
    "b = (4, 5, 6)\n",
    "print(f\"Value of a is {a}\\nValue of b is {b}\")"
   ]
  },
  {
   "cell_type": "code",
   "execution_count": 12,
   "id": "123e034d",
   "metadata": {},
   "outputs": [
    {
     "name": "stdout",
     "output_type": "stream",
     "text": [
      "mydict_a = {'apple': 1, 'banana': 5, 'cherry': 3}\n",
      "mydict_b = {'apple': 1, 'banana': 5, 'cherry': 3}\n"
     ]
    }
   ],
   "source": [
    "#Dictionary\n",
    "mydict_a = {'apple': 1, 'banana': 2, 'cherry': 3}\n",
    "mydict_b = mydict_a\n",
    "mydict_b['banana'] = 5\n",
    "print(f\"mydict_a = {mydict_a}\\nmydict_b = {mydict_b}\")"
   ]
  },
  {
   "cell_type": "code",
   "execution_count": 13,
   "id": "9c76e31e",
   "metadata": {},
   "outputs": [
    {
     "name": "stdout",
     "output_type": "stream",
     "text": [
      "mylist_a = ['apple', 'kiwi', 'cherry']\n",
      "mylist_b = ['apple', 'kiwi', 'cherry']\n"
     ]
    }
   ],
   "source": [
    "#List\n",
    "mylist_a = ['apple', 'banana', 'cherry']\n",
    "mylist_b = mylist_a\n",
    "mylist_b[1] = 'kiwi'\n",
    "print(f\"mylist_a = {mylist_a}\\nmylist_b = {mylist_b}\")"
   ]
  },
  {
   "cell_type": "code",
   "execution_count": null,
   "id": "ded63cd3",
   "metadata": {},
   "outputs": [],
   "source": [
    "# When two variables are set to the same value, \n",
    "\n",
    "# for immutable objects(integer, float, string, tuple data types) \n",
    "# if the value of a variable changes, it does not effect the value of the other variable.\n",
    "\n",
    "# for mutable objects (lists and dictionaries),\n",
    "# if the value of a variable changes, the value of the other variable also changes.  "
   ]
  }
 ],
 "metadata": {
  "kernelspec": {
   "display_name": "Python 3 (ipykernel)",
   "language": "python",
   "name": "python3"
  },
  "language_info": {
   "codemirror_mode": {
    "name": "ipython",
    "version": 3
   },
   "file_extension": ".py",
   "mimetype": "text/x-python",
   "name": "python",
   "nbconvert_exporter": "python",
   "pygments_lexer": "ipython3",
   "version": "3.9.7"
  }
 },
 "nbformat": 4,
 "nbformat_minor": 5
}
